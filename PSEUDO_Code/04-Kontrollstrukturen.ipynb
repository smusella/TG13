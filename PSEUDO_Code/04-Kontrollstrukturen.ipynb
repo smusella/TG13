{
 "cells": [
  {
   "cell_type": "markdown",
   "id": "0d668482",
   "metadata": {},
   "source": [
    "# **Python**\n",
    "\n",
    "## 3 Kontrollstrukturen\n",
    "\n",
    "Dieses Notebook enthält verschiedene **Kontrollstrukturen**, die aus Pseudocode (Kapitel 4.2) übernommen und in **Python** umgesetzt wurden.\n"
   ]
  },
  {
   "cell_type": "markdown",
   "id": "f7c60506",
   "metadata": {},
   "source": [
    "### 3.1 Zuweisung\n",
    "\n",
    "![Zuweisung](bilder/zuweisung.png)"
   ]
  },
  {
   "cell_type": "code",
   "execution_count": 12,
   "id": "eeee9b9e",
   "metadata": {},
   "outputs": [],
   "source": [
    "pi = 3.14159"
   ]
  },
  {
   "cell_type": "markdown",
   "id": "852476ef",
   "metadata": {},
   "source": [
    "pi = 3.14159\n",
    "pi := 3.14159\n",
    "pi <- 3.14159"
   ]
  },
  {
   "cell_type": "markdown",
   "id": "f5c8950c",
   "metadata": {},
   "source": [
    "#### 3.2 Sequenz\n",
    "Eine Sequenz von Anweisungen ist eine Abfolge von Befehlen, die nacheinander ausgeführt werden.\n",
    "\n",
    "![Sequenz](bilder/sequenz.png)"
   ]
  },
  {
   "cell_type": "code",
   "execution_count": 13,
   "id": "75ec75cf",
   "metadata": {},
   "outputs": [
    {
     "name": "stdout",
     "output_type": "stream",
     "text": [
      "Programm startet...\n",
      "Das Ergebnis ist: 20\n",
      "Programm endet.\n"
     ]
    }
   ],
   "source": [
    "print(\"Programm startet...\")  # 1. Anweisung\n",
    "x = 10  # 2. Anweisung (Zuweisung)\n",
    "y = x * 2  # 3. Anweisung (Berechnung)\n",
    "print(\"Das Ergebnis ist:\", y)  # 4. Anweisung (Ausgabe)\n",
    "print(\"Programm endet.\")  # 5. Anweisung"
   ]
  },
  {
   "cell_type": "markdown",
   "id": "996f3234",
   "metadata": {},
   "source": [
    "print(\"Programm startet...\")\n",
    "x = 10  \n",
    "y = x * 2  \n",
    "print(\"Das Ergebnis ist:\", y)\n",
    "print(\"Programm endet.\") "
   ]
  },
  {
   "cell_type": "markdown",
   "id": "342559bc",
   "metadata": {},
   "source": [
    "### 3.3 Auswahl\n"
   ]
  },
  {
   "cell_type": "markdown",
   "id": "6862b6b4",
   "metadata": {},
   "source": [
    "#### Einseitige Auswahl\n",
    "Eine einseitige Auswahl bedeutet, dass eine Aktion nur dann ausgeführt wird, wenn eine Bedingung erfüllt ist. Falls die Bedingung nicht erfüllt ist, passiert nichts.\n",
    "\n",
    "![Einseitige Auswahl](bilder/einseitige-auswahl.png)\n",
    "\n"
   ]
  },
  {
   "cell_type": "code",
   "execution_count": 14,
   "id": "f7944ffb",
   "metadata": {},
   "outputs": [
    {
     "name": "stdout",
     "output_type": "stream",
     "text": [
      "x ist größer als 5\n"
     ]
    }
   ],
   "source": [
    "x = 10\n",
    "if x > 5:\n",
    "    print(\"x ist größer als 5\")"
   ]
  },
  {
   "cell_type": "markdown",
   "id": "a13bc0a6",
   "metadata": {},
   "source": [
    "x= 10\n",
    "WENN x> 5\n",
    "    print(\"....\")\n",
    "ENDE WENN"
   ]
  },
  {
   "cell_type": "markdown",
   "id": "ddf81e66",
   "metadata": {},
   "source": [
    "#### Zweiseitige Auswahl\n",
    "Eine zweiseitige Auswahl bedeutet, dass zwei verschiedene Aktionen abhängig von einer Bedingung ausgeführt werden. Falls die Bedingung wahr (True) ist, wird ein Block ausgeführt, andernfalls (False) wird ein anderer Block ausgeführt.\n",
    "\n",
    "![Zweiseitige Auswahl](bilder/zweiseitige-auswahl.png)"
   ]
  },
  {
   "cell_type": "code",
   "execution_count": 15,
   "id": "4bcf4ab1",
   "metadata": {},
   "outputs": [
    {
     "name": "stdout",
     "output_type": "stream",
     "text": [
      "Du\n"
     ]
    }
   ],
   "source": [
    "alter = 12\n",
    "if alter >= 18:\n",
    "    print(\"Sie\")\n",
    "else:\n",
    "    print(\"Du\")\n"
   ]
  },
  {
   "cell_type": "markdown",
   "id": "d6809f42",
   "metadata": {},
   "source": [
    "alter = 12\n",
    "WENN alter >= 18\n",
    "    print(\"Sie\")\n",
    "SONST\n",
    "    print(\"Du\")\n",
    "ENDE WENN"
   ]
  },
  {
   "cell_type": "markdown",
   "id": "52df9054",
   "metadata": {},
   "source": [
    "#### Mehrfachauswahl\n",
    "\n",
    "Du kannst eine Mehrfachauswahl mit match-case realisieren. Dies ermöglicht, dass eine von mehreren Bedingungen geprüft und die passende Anweisung ausgeführt wird. Falls keine Bedingung zutrifft, wird die Anweisung des default-Falls ausgeführt.\n",
    "\n",
    "![Mehrfachauswahl](bilder/mehrfachauswahl.png)"
   ]
  },
  {
   "cell_type": "code",
   "execution_count": 16,
   "id": "d0e2d674",
   "metadata": {},
   "outputs": [
    {
     "name": "stdout",
     "output_type": "stream",
     "text": [
      "Mittwoch\n"
     ]
    }
   ],
   "source": [
    "from datetime import datetime\n",
    "\n",
    "# Wochentag des aktuellen Datums als Zahl (0=Montag, 6=Sonntag)\n",
    "wochentag = datetime.today().weekday()\n",
    "\n",
    "match wochentag:\n",
    "    case 0:\n",
    "        print(\"Montag\")\n",
    "    case 1:\n",
    "        print(\"Dienstag\")\n",
    "    case 2:\n",
    "        print(\"Mittwoch\")\n",
    "    case 3:\n",
    "        print(\"Donnerstag\")\n",
    "    case 4:\n",
    "        print(\"Freitag\")\n",
    "    case 5:\n",
    "        print(\"Samstag\")\n",
    "    case 6:\n",
    "        print(\"Sonntag\")\n",
    "    case _: # default-Fall\n",
    "        print(\"Ungültige Eingabe\")"
   ]
  },
  {
   "cell_type": "markdown",
   "id": "e7fb8e22",
   "metadata": {},
   "source": [
    "from datetime import datetime\n",
    "\n",
    "# Wochentag des aktuellen Datums als Zahl (0=Montag, 6=Sonntag)\n",
    "wochentag = datetime.today().weekday()\n",
    "\n",
    "FALLS wochentag GLEICH\n",
    "    wochentag = 0:\n",
    "        print(\"Montag\")\n",
    "    wochentag = 1:\n",
    "        print(\"Dienstag\")\n",
    "    wochentag = 2:\n",
    "        print(\"Mittwoch\")\n",
    "    wochentag = 3:\n",
    "        print(\"Donnerstag\")\n",
    "    wochentag = 4:\n",
    "        print(\"Freitag\")\n",
    "    wochentag = 5:\n",
    "        print(\"Samstag\")\n",
    "    wochentag = 6:\n",
    "        print(\"Sonntag\")\n",
    "    SONST: # default-Fall\n",
    "        print(\"Ungültige Eingabe\")\n",
    "ENDE FALLS"
   ]
  },
  {
   "cell_type": "markdown",
   "id": "7764bd87",
   "metadata": {},
   "source": [
    "### 3.4 Schleifen (Iteration)"
   ]
  },
  {
   "cell_type": "markdown",
   "id": "cf7c5fe9",
   "metadata": {},
   "source": [
    "#### Schleife mit Eintrittsbedingung\n",
    "Eine Schleife mit Eintrittsbedingung bedeutet, dass die Schleife nur ausgeführt wird, wenn die Bedingung zu Beginn als True bewertet wird. Falls die Bedingung False ist, wird die Schleife gar nicht erst ausgeführt.\n",
    "\n",
    "![Schleife mit Eintrittsbedingung](bilder/schreife--mit-eintrittsbedingung.png)"
   ]
  },
  {
   "cell_type": "code",
   "execution_count": 17,
   "id": "425fdaeb",
   "metadata": {},
   "outputs": [
    {
     "name": "stdout",
     "output_type": "stream",
     "text": [
      "Zahl: 0\n",
      "Zahl: 1\n",
      "Zahl: 2\n",
      "Zahl: 3\n",
      "Zahl: 4\n"
     ]
    }
   ],
   "source": [
    "zahl = 0\n",
    "\n",
    "while zahl < 5:  # Eintrittsbedingung\n",
    "    print(f\"Zahl: {zahl}\")\n",
    "    zahl += 1  # Erhöhe die Zahl"
   ]
  },
  {
   "cell_type": "markdown",
   "id": "57deb1b1",
   "metadata": {},
   "source": [
    "zahl = 0\n",
    "\n",
    "SOLANGE zahl < 5  \n",
    "    print(f\"Zahl: {zahl}\")\n",
    "    zahl += 1  \n",
    "ENDE SOLANGE"
   ]
  },
  {
   "cell_type": "markdown",
   "id": "c8db70e6",
   "metadata": {},
   "source": [
    "#### Schleife mit Austrittsbedingung\n",
    "Eine Schleife mit Austrittsbedingung bedeutet, dass die Schleife mindestens einmal ausgeführt wird und erst danach die Abbruchbedingung geprüft wird.\n",
    "\n",
    "![Schleife mit Austrittsbedingung](bilder/schleife-mit-austrittsbedingung.png)\n",
    "\n",
    "Da Python keine direkte “do-while”-Schleife wie in anderen Sprachen hat, kann dies mit einer while True-Schleife und einem break umgesetzt werden."
   ]
  },
  {
   "cell_type": "code",
   "execution_count": 18,
   "id": "c0d2890a",
   "metadata": {},
   "outputs": [
    {
     "name": "stdout",
     "output_type": "stream",
     "text": [
      "Aktuelle Zahl: 0\n",
      "Aktuelle Zahl: 1\n",
      "Aktuelle Zahl: 2\n",
      "Aktuelle Zahl: 3\n",
      "Aktuelle Zahl: 4\n"
     ]
    }
   ],
   "source": [
    "zahl = 0\n",
    "\n",
    "while True:  # Endlosschleife\n",
    "    print(f\"Aktuelle Zahl: {zahl}\")\n",
    "    zahl += 1\n",
    "\n",
    "    if zahl >= 5:  # Austrittsbedingung\n",
    "        break  # Beende die Schleife"
   ]
  },
  {
   "cell_type": "markdown",
   "id": "f1a3e3f9",
   "metadata": {},
   "source": [
    "zahl = 0\n",
    "\n",
    "WIEDERHOLE\n",
    "    print(f\"Aktuelle Zahl: {zahl}\")\n",
    "    zahl += 1\n",
    "\n",
    "    SOLANGE zahl >= 5\n",
    "        ABBRUCH"
   ]
  },
  {
   "cell_type": "markdown",
   "id": "6ffd4c30",
   "metadata": {},
   "source": [
    "#### Zählschreife\n",
    "\n",
    "![Zählschleife](bilder/zaehlschleife.png)\n",
    "\n",
    "In Python kann eine Zählschleife mit Start, Ende und Schrittweite mit der range()-Funktion in einer for-Schleife realisiert werden."
   ]
  },
  {
   "cell_type": "code",
   "execution_count": 19,
   "id": "d268f812",
   "metadata": {},
   "outputs": [
    {
     "name": "stdout",
     "output_type": "stream",
     "text": [
      "Zählschleife:\n",
      "0\n",
      "1\n",
      "2\n",
      "3\n",
      "4\n",
      "Zählschleife mit Start und Ende (exlusiv):\n",
      "10\n",
      "11\n",
      "12\n",
      "13\n",
      "14\n",
      "15\n",
      "Zählschleifemit Start, Ende (exlusiv) und Schrittweite:\n",
      "100\n",
      "105\n",
      "110\n",
      "115\n"
     ]
    }
   ],
   "source": [
    "print(\"Zählschleife:\")\n",
    "for i in range(5):\n",
    "    print(i)\n",
    "\n",
    "print(\"Zählschleife mit Start und Ende (exlusiv):\")\n",
    "for i in range(10, 16):\n",
    "    print(i)\n",
    "\n",
    "print(\"Zählschleifemit Start, Ende (exlusiv) und Schrittweite:\")\n",
    "for i in range(100, 120, 5):\n",
    "    print(i)\n",
    "\n"
   ]
  },
  {
   "cell_type": "markdown",
   "id": "abd9c171",
   "metadata": {},
   "source": [
    "print(\"Zählschleife:\")\n",
    "FÜR i=0 BIS 5 SCHRITT 1 \n",
    "    print(i)\n",
    "ENDE FÜR\n",
    "\n",
    "print(\"Zählschleife mit Start und Ende (exlusiv):\")\n",
    "FÜR i=10 BIS 16 SCHRITT 1\n",
    "    print(i)\n",
    "ENDE FÜR\n",
    "\n",
    "print(\"Zählschleifemit Start, Ende (exlusiv) und Schrittweite:\")\n",
    "FÜR i=100 BIS 120 SCHRITT 5\n",
    "    print(i)\n",
    "ENDE FÜR\n"
   ]
  },
  {
   "cell_type": "markdown",
   "id": "132809df",
   "metadata": {},
   "source": [
    "#### Schleife über Kollektion\n",
    "\n",
    "![Schleife für Kollektion](bilder/schleife-ueber-kollektion.png)\n",
    "\n",
    "In Python kannst du mit einer Schleife über eine Kollektion (z. B. Liste, Tupel, Set, Dictionary) iterieren. Hier sind verschiedene Möglichkeiten:"
   ]
  },
  {
   "cell_type": "code",
   "execution_count": 20,
   "id": "331cc635",
   "metadata": {},
   "outputs": [
    {
     "name": "stdout",
     "output_type": "stream",
     "text": [
      "Apfel\n",
      "Banane\n",
      "Kirsche\n",
      "Rot\n",
      "Grün\n",
      "Blau\n",
      "1\n",
      "2\n",
      "3\n",
      "4\n",
      "5\n",
      "Name: Lisa\n",
      "Alter: 21\n",
      "Kurs: Informatik\n",
      "0: Anna\n",
      "1: Tom\n",
      "2: Julia\n"
     ]
    }
   ],
   "source": [
    "# Listen sind geordnet und erlauben doppelte Werte\n",
    "obst = [\"Apfel\", \"Banane\", \"Kirsche\"]\n",
    "\n",
    "for frucht in obst:\n",
    "    print(frucht)\n",
    "\n",
    "# Tupel verhalten sich wie Listen, die Größe ist aber unveränderlich.\n",
    "farben = (\"Rot\", \"Grün\", \"Blau\")\n",
    "\n",
    "for farbe in farben:\n",
    "    print(farbe)\n",
    "\n",
    "# Eine Menge gibt die Elemente in zufälliger Reihenfolge aus.\n",
    "# Mengen enthalten nur eindeutige Werte.\n",
    "zahlen = {1, 2, 3, 4, 5}\n",
    "\n",
    "for zahl in zahlen:\n",
    "    print(zahl)\n",
    "\n",
    "# Dictionary (Schlüssel-Werte-Paare)\n",
    "# .items() wird verwendet, um Schlüssel und Wert gleichzeitig zu iterieren.\n",
    "# Mit .keys() oder .values() kann man nur Schlüssel oder Werte durchlaufen.\n",
    "student = {\"Name\": \"Lisa\", \"Alter\": 21, \"Kurs\": \"Informatik\"}\n",
    "\n",
    "for schluessel, wert in student.items():\n",
    "    print(f\"{schluessel}: {wert}\")\n",
    "\n",
    "\n",
    "# Aufzählungen über eine Liste\n",
    "# enumerate() gibt zusätzlich den Index des Elements zurück.\n",
    "namen = [\"Anna\", \"Tom\", \"Julia\"]\n",
    "\n",
    "for index, name in enumerate(namen):\n",
    "    print(f\"{index}: {name}\")"
   ]
  },
  {
   "cell_type": "markdown",
   "id": "4f77b453",
   "metadata": {},
   "source": [
    "obst = [\"Apfel\", \"Banane\", \"Kirsche\"]\n",
    "\n",
    "FÜR frucht IN obst\n",
    "    print(frucht)\n",
    "ENDE FÜR\n",
    "\n",
    "# Tupel verhalten sich wie Listen, die Größe ist aber unveränderlich.\n",
    "farben = (\"Rot\", \"Grün\", \"Blau\")\n",
    "\n",
    "FÜR farbe IN farben\n",
    "    print(farbe)\n",
    "ENDE FÜR\n",
    "\n",
    "# Eine Menge gibt die Elemente in zufälliger Reihenfolge aus.\n",
    "# Mengen enthalten nur eindeutige Werte.\n",
    "zahlen = {1, 2, 3, 4, 5}\n",
    "\n",
    "FÜR zahl IN zahlen\n",
    "    print(zahl)\n",
    "ENDE FÜR\n",
    "\n",
    "# Dictionary (Schlüssel-Werte-Paare)\n",
    "# .items() wird verwendet, um Schlüssel und Wert gleichzeitig zu iterieren.\n",
    "# Mit .keys() oder .values() kann man nur Schlüssel oder Werte durchlaufen.\n",
    "student = {\"Name\": \"Lisa\", \"Alter\": 21, \"Kurs\": \"Informatik\"}\n",
    "\n",
    "FÜR schluessel, wert IN student.items()\n",
    "    print(f\"{schluessel}: {wert}\")\n",
    "ENDE FÜR\n",
    "\n",
    "# Aufzählungen über eine Liste\n",
    "# enumerate() gibt zusätzlich den Index des Elements zurück.\n",
    "namen = [\"Anna\", \"Tom\", \"Julia\"]\n",
    "\n",
    "FÜR index, name IN enumerate(namen)\n",
    "    print(f\"{index}: {name}\")\n",
    "ENDE FÜR"
   ]
  },
  {
   "cell_type": "markdown",
   "id": "a75b83e9",
   "metadata": {},
   "source": [
    "#### Schleife mit Abbruchbedingung\n",
    "\n",
    "![Schleife mit Abbruchbedingung](bilder/schleife-mit-abbruchbedingung.png)"
   ]
  },
  {
   "cell_type": "code",
   "execution_count": 21,
   "id": "f8114fa2",
   "metadata": {},
   "outputs": [
    {
     "name": "stdout",
     "output_type": "stream",
     "text": [
      "1\n",
      "2\n",
      "3\n",
      "4\n"
     ]
    }
   ],
   "source": [
    "for zahl in range(1,10):\n",
    "    if zahl % 5 == 0:\n",
    "        # zahl ist durch 5 teilbar\n",
    "        break\n",
    "    print(zahl)"
   ]
  },
  {
   "cell_type": "markdown",
   "id": "f4d80f15",
   "metadata": {},
   "source": [
    "FÜR zahl=1 BIS 10 SCHRITT 1\n",
    "    if zahl % 5 == 0:\n",
    "        # zahl ist durch 5 teilbar\n",
    "        break\n",
    "    print(zahl)"
   ]
  },
  {
   "cell_type": "code",
   "execution_count": 22,
   "id": "2381a3e5",
   "metadata": {},
   "outputs": [
    {
     "name": "stdout",
     "output_type": "stream",
     "text": [
      "i: 1, j: 1\n",
      "i: 1, j: 2\n",
      "i: 1, j: 3\n",
      "i: 2, j: 1\n",
      "i: 2, j: 2\n",
      "i: 2, j: 3\n",
      "i: 3, j: 1\n",
      "i: 3, j: 2\n",
      "i: 3, j: 3\n"
     ]
    }
   ],
   "source": [
    "\n",
    "for i in range(1, 4):\n",
    "    for j in range(1, 4):\n",
    "        print(f\"i: {i}, j: {j}\")\n"
   ]
  }
 ],
 "metadata": {
  "kernelspec": {
   "display_name": "base",
   "language": "python",
   "name": "python3"
  },
  "language_info": {
   "codemirror_mode": {
    "name": "ipython",
    "version": 3
   },
   "file_extension": ".py",
   "mimetype": "text/x-python",
   "name": "python",
   "nbconvert_exporter": "python",
   "pygments_lexer": "ipython3",
   "version": "3.11.4"
  }
 },
 "nbformat": 4,
 "nbformat_minor": 5
}
